{
 "cells": [
  {
   "cell_type": "code",
   "execution_count": 1,
   "id": "9e7bcdfd-3e06-401f-8d3e-31df43c83dd8",
   "metadata": {},
   "outputs": [
    {
     "ename": "ModuleNotFoundError",
     "evalue": "No module named 'seaborn.linearmodels'",
     "output_type": "error",
     "traceback": [
      "\u001b[1;31m---------------------------------------------------------------------------\u001b[0m",
      "\u001b[1;31mModuleNotFoundError\u001b[0m                       Traceback (most recent call last)",
      "Input \u001b[1;32mIn [1]\u001b[0m, in \u001b[0;36m<cell line: 21>\u001b[1;34m()\u001b[0m\n\u001b[0;32m     18\u001b[0m \u001b[38;5;66;03m# For division\u001b[39;00m\n\u001b[0;32m     19\u001b[0m \u001b[38;5;28;01mfrom\u001b[39;00m \u001b[38;5;21;01m__future__\u001b[39;00m \u001b[38;5;28;01mimport\u001b[39;00m division\n\u001b[1;32m---> 21\u001b[0m \u001b[38;5;28;01mfrom\u001b[39;00m \u001b[38;5;21;01mseaborn\u001b[39;00m\u001b[38;5;21;01m.\u001b[39;00m\u001b[38;5;21;01mlinearmodels\u001b[39;00m \u001b[38;5;28;01mimport\u001b[39;00m corrplot,symmatplot\n",
      "\u001b[1;31mModuleNotFoundError\u001b[0m: No module named 'seaborn.linearmodels'"
     ]
    }
   ],
   "source": [
    "#Let's go ahead and start with some imports\n",
    "import pandas as pd\n",
    "from pandas import Series,DataFrame\n",
    "import numpy as np\n",
    "\n",
    "# For Visualization\n",
    "import matplotlib.pyplot as plt\n",
    "import seaborn as sns\n",
    "sns.set_style('whitegrid')\n",
    "%matplotlib inline\n",
    "\n",
    "# For reading stock data from yahoo\n",
    "from pandas_datareader import data as dr\n",
    "\n",
    "# For time stamps\n",
    "from datetime import datetime\n",
    "\n",
    "# For division\n",
    "from __future__ import division\n",
    "\n",
    "from seaborn.linearmodels import corrplot,symmatplot"
   ]
  },
  {
   "cell_type": "code",
   "execution_count": null,
   "id": "c1191c6e-7b2b-4db1-98ff-42854fa3af9c",
   "metadata": {},
   "outputs": [],
   "source": [
    "pip install pandas-datareader"
   ]
  },
  {
   "cell_type": "code",
   "execution_count": null,
   "id": "ee35dce4-7099-454f-881e-db7d6a384f41",
   "metadata": {},
   "outputs": [],
   "source": [
    "# The tech stocks we'll use for this analysis\n",
    "tech_list = ['AAPL','GOOG','MSFT','AMZN']\n",
    "\n",
    "# Set up End and Start times for data grab\n",
    "end = datetime.now()\n",
    "start = datetime(end.year - 1,end.month,end.day)\n",
    "\n",
    "\n",
    "#For loop for grabing yahoo finance data and setting as a dataframe\n",
    "\n",
    "for stock in tech_list:   \n",
    "    # Set DataFrame as the Stock Ticker\n",
    "    globals()[stock] = dr.DataReader(stock,'yahoo',start,end)"
   ]
  },
  {
   "cell_type": "code",
   "execution_count": null,
   "id": "dcb13f28-4f72-4379-a60c-8063e3685fe2",
   "metadata": {},
   "outputs": [],
   "source": [
    "# Summary Stats\n",
    "AAPL.describe()"
   ]
  },
  {
   "cell_type": "code",
   "execution_count": null,
   "id": "737e7ead-d9f6-4347-926f-334a81c09dcb",
   "metadata": {},
   "outputs": [],
   "source": [
    "# General Info\n",
    "AAPL.info()\n"
   ]
  },
  {
   "cell_type": "code",
   "execution_count": null,
   "id": "78ee0af3-1520-4491-b1c7-77fe02fdcf87",
   "metadata": {},
   "outputs": [],
   "source": [
    "# Let's see a historical view of the closing price\n",
    "AAPL['Adj Close'].plot(legend=True)"
   ]
  },
  {
   "cell_type": "code",
   "execution_count": null,
   "id": "c5881aa7-c7d5-4856-a765-35a1da3ebcae",
   "metadata": {},
   "outputs": [],
   "source": [
    "AAPL['Volume'].plot(legend=True,figsize=(10,4))"
   ]
  },
  {
   "cell_type": "code",
   "execution_count": null,
   "id": "389c1b88-bf4c-42cd-a50a-d5c185a76722",
   "metadata": {},
   "outputs": [],
   "source": [
    "# Luckily pandas has a built-in rolling mean calculator\n",
    "\n",
    "# Let's go ahead and plot out several moving averages\n",
    "ma_day = [10,20,50]\n",
    "\n",
    "for ma in ma_day:\n",
    "    column_name = \"MA for %s days\" %(str(ma))\n",
    "    AAPL[column_name]=AAPL['Adj Close'].rolling(ma).mean()"
   ]
  },
  {
   "cell_type": "code",
   "execution_count": null,
   "id": "82b95c0d-d15b-44c5-a573-3de230ef83ca",
   "metadata": {},
   "outputs": [],
   "source": [
    "AAPL[['Adj Close','MA for 10 days','MA for 20 days','MA for 50 days']].plot(subplots=False,figsize=(15,4))"
   ]
  },
  {
   "cell_type": "code",
   "execution_count": null,
   "id": "ab9fd47c-792f-48c4-9a1f-4aab9f2db827",
   "metadata": {},
   "outputs": [],
   "source": [
    "AAPL.tail()"
   ]
  },
  {
   "cell_type": "code",
   "execution_count": null,
   "id": "42112de8-3733-4575-9be8-847c9795c251",
   "metadata": {},
   "outputs": [],
   "source": [
    "# We'll use pct_change to find the percent change for each day\n",
    "AAPL['Daily Return'] = AAPL['Adj Close'].pct_change()\n",
    "# Then we'll plot the daily return percentage\n",
    "AAPL['Daily Return'].plot(figsize=(12,4),legend=True,linestyle='--',marker='o')"
   ]
  },
  {
   "cell_type": "code",
   "execution_count": null,
   "id": "fdc7de72-9893-4901-8856-d72942627cd2",
   "metadata": {},
   "outputs": [],
   "source": [
    "# Grab all the closing prices for the tech stock list into one DataFrame\n",
    "closing_df = dr.DataReader(['AAPL','GOOG','MSFT','AMZN'],'yahoo',start,end)['Adj Close']"
   ]
  },
  {
   "cell_type": "code",
   "execution_count": null,
   "id": "71da4382-a56d-4708-bcf8-9e870d344a67",
   "metadata": {},
   "outputs": [],
   "source": [
    "# Make a new tech returns DataFrame\n",
    "tech_rets = closing_df.pct_change()"
   ]
  },
  {
   "cell_type": "code",
   "execution_count": null,
   "id": "9822b81e-580c-432a-a0ad-49cdac08cb8d",
   "metadata": {},
   "outputs": [],
   "source": [
    "# Comparing Google to itself should show a perfectly linear relationship\n",
    "sns.jointplot('GOOG','AAPL',tech_rets,kind='scatter',color='seagreen')"
   ]
  },
  {
   "cell_type": "code",
   "execution_count": null,
   "id": "7523772e-c88b-4ecd-9698-241c343391b3",
   "metadata": {},
   "outputs": [],
   "source": [
    "# We can simply call pairplot on our DataFrame for an automatic visual analysis of all the comparisons\n",
    "sns.pairplot(tech_rets.dropna())"
   ]
  },
  {
   "cell_type": "code",
   "execution_count": null,
   "id": "ff11d66a-8c70-4b7c-bf23-0874dbec07ac",
   "metadata": {},
   "outputs": [],
   "source": [
    "# Set up our figure by naming it returns_fig, call PairPLot on the DataFrame\n",
    "returns_fig = sns.PairGrid(tech_rets.dropna())\n",
    "\n",
    "# Using map_upper we can specify what the upper triangle will look like.\n",
    "returns_fig.map_upper(plt.scatter,color='purple')\n",
    "\n",
    "# We can also define the lower triangle in the figure, inclufing the plot type (kde) or the color map (BluePurple)\n",
    "returns_fig.map_lower(sns.kdeplot,color='red')\n",
    "\n",
    "# Finally we'll define the diagonal as a series of histogram plots of the daily return\n",
    "returns_fig.map_diag(plt.hist,bins=30)"
   ]
  },
  {
   "cell_type": "code",
   "execution_count": null,
   "id": "54bef146-ec06-4bd7-ad34-6103ef1a2070",
   "metadata": {},
   "outputs": [],
   "source": [
    "# Set up our figure by naming it returns_fig, call PairPLot on the DataFrame\n",
    "returns_fig = sns.PairGrid(closing_df)\n",
    "\n",
    "# Using map_upper we can specify what the upper triangle will look like.\n",
    "returns_fig.map_upper(plt.scatter,color='purple')\n",
    "\n",
    "# We can also define the lower triangle in the figure, inclufing the plot type (kde) or the color map (BluePurple)\n",
    "returns_fig.map_lower(sns.kdeplot,cmap='cool_d')\n",
    "\n",
    "# Finally we'll define the diagonal as a series of histogram plots of the closing price\n",
    "returns_fig.map_diag(plt.hist,bins=30)"
   ]
  },
  {
   "cell_type": "code",
   "execution_count": null,
   "id": "6b9bfec7-b1c5-4e50-9cf1-8059bb288d62",
   "metadata": {},
   "outputs": [],
   "source": [
    "# Let's go ahead and use sebron for a quick correlation plot for the daily returns\n",
    "\n",
    "# Compute the correlation matrix\n",
    "corr = tech_rets.corr()\n",
    "print(corr)\n",
    "# Generate a mask for the upper triangle\n",
    "mask = np.zeros_like(corr, dtype=np.bool)\n",
    "mask[np.triu_indices_from(mask)] = True\n",
    "\n",
    "# Set up the matplotlib figure\n",
    "fig, ax = plt.subplots()\n",
    "\n",
    "# Draw the heatmap with the mask and correct aspect ratio\n",
    "vmax = np.abs(corr.values[~mask]).max()\n",
    "sns.heatmap(corr, mask=mask, cmap=plt.cm.PuOr, vmin=-vmax, vmax=vmax,\n",
    "            square=True, linecolor=\"lightgray\", linewidths=1, ax=ax)\n",
    "for i in range(len(corr)):\n",
    "    ax.text(i+0.5,len(corr)-(i+0.5), corr.columns[i], \n",
    "            ha=\"center\", va=\"center\", rotation=45)\n",
    "    for j in range(i+1, len(corr)):\n",
    "        s = \"{:.3f}\".format(corr.values[i,j])\n",
    "        ax.text(j+0.5,len(corr)-(i+0.5),s, \n",
    "            ha=\"center\", va=\"center\")\n",
    "ax.axis(\"off\")\n",
    "plt.show()"
   ]
  },
  {
   "cell_type": "code",
   "execution_count": null,
   "id": "e28b782c-b110-4fa3-8554-485238996485",
   "metadata": {},
   "outputs": [],
   "source": []
  }
 ],
 "metadata": {
  "kernelspec": {
   "display_name": "Python 3 (ipykernel)",
   "language": "python",
   "name": "python3"
  },
  "language_info": {
   "codemirror_mode": {
    "name": "ipython",
    "version": 3
   },
   "file_extension": ".py",
   "mimetype": "text/x-python",
   "name": "python",
   "nbconvert_exporter": "python",
   "pygments_lexer": "ipython3",
   "version": "3.9.12"
  }
 },
 "nbformat": 4,
 "nbformat_minor": 5
}
